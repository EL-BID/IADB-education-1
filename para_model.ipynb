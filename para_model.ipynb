version https://git-lfs.github.com/spec/v1
oid sha256:e7e87b573120a974b21aac604b8b5be3027aff154366f11399ee1470e5f1892d
size 229188742
