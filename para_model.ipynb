version https://git-lfs.github.com/spec/v1
oid sha256:43ae69373ff024c949ed732e1ed265088641f510f2be0ac8ddecc42cb3320f90
size 65723934
