version https://git-lfs.github.com/spec/v1
oid sha256:e97a4dc51cf2064597ee379056cfbe1da9ccad1d8682b453659565f2b04a5b54
size 5688588
