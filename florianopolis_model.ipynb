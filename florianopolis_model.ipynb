version https://git-lfs.github.com/spec/v1
oid sha256:3ddd2147c379abf80d6efa3ff975565c817004817ce027477da88ab255692073
size 9051053
