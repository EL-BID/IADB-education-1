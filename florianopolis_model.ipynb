version https://git-lfs.github.com/spec/v1
oid sha256:c465414649dc2e6316b1717b5b3cda09acd4ef2ee596240f333cf7b55b25eb33
size 2790823
