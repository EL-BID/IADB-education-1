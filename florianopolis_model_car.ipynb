version https://git-lfs.github.com/spec/v1
oid sha256:c4d391caab0925141654b222792f529efcbef21bfe4ffd4592f7e860c341c02b
size 21096903
