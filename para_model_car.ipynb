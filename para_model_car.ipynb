version https://git-lfs.github.com/spec/v1
oid sha256:4a55aa56c8cff4aa3afa0bb63f2a4db663168a0df939510a15327c86aaa3f95e
size 106568529
