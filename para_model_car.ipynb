{
 "cells": [
  {
   "attachments": {},
   "cell_type": "markdown",
   "metadata": {},
   "source": [
    "## Urbanpy model for Para for car transportation"
   ]
  },
  {
   "attachments": {},
   "cell_type": "markdown",
   "metadata": {},
   "source": [
    "Import necessary packages"
   ]
  },
  {
   "cell_type": "code",
   "execution_count": null,
   "metadata": {},
   "outputs": [],
   "source": [
    "import warnings\n",
    "warnings.filterwarnings('ignore')\n",
    "\n",
    "import matplotlib.pyplot as plt\n",
    "plt.rcParams[\"figure.figsize\"] = (10,10)\n",
    "\n",
    "# Only needed when git cloning the urbanpy repo\n",
    "# import sys\n",
    "# sys.path.append('..')\n",
    "\n",
    "import urbanpy as up\n",
    "import geopandas as gpd\n",
    "import numpy as np\n",
    "import pandas as pd\n",
    "import shapely\n",
    "import plotly.express as px \n",
    "import osmnx as ox\n",
    "\n",
    "from tqdm.notebook import tqdm\n",
    "tqdm.pandas()\n",
    "\n",
    "from pandarallel import pandarallel\n",
    "\n",
    "pandarallel.initialize(progress_bar=True)"
   ]
  },
  {
   "attachments": {},
   "cell_type": "markdown",
   "metadata": {},
   "source": [
    "Download maps"
   ]
  },
  {
   "cell_type": "code",
   "execution_count": null,
   "metadata": {},
   "outputs": [],
   "source": [
    "state = 'Pará, Brazil'\n",
    "para = up.download.nominatim_osm(state)"
   ]
  },
  {
   "attachments": {},
   "cell_type": "markdown",
   "metadata": {},
   "source": [
    "Plot map"
   ]
  },
  {
   "cell_type": "code",
   "execution_count": 1,
   "metadata": {},
   "outputs": [
    {
     "ename": "NameError",
     "evalue": "name 'para' is not defined",
     "output_type": "error",
     "traceback": [
      "\u001b[0;31m---------------------------------------------------------------------------\u001b[0m",
      "\u001b[0;31mNameError\u001b[0m                                 Traceback (most recent call last)",
      "Cell \u001b[0;32mIn[1], line 1\u001b[0m\n\u001b[0;32m----> 1\u001b[0m para\u001b[39m.\u001b[39mplot()\n\u001b[1;32m      2\u001b[0m plt\u001b[39m.\u001b[39mtitle(state)\n",
      "\u001b[0;31mNameError\u001b[0m: name 'para' is not defined"
     ]
    }
   ],
   "source": [
    "para.plot()\n",
    "plt.title(state)"
   ]
  },
  {
   "attachments": {},
   "cell_type": "markdown",
   "metadata": {},
   "source": [
    "## Divide Para into hexagons for spatial analysis"
   ]
  },
  {
   "cell_type": "code",
   "execution_count": null,
   "metadata": {},
   "outputs": [],
   "source": [
    "h3_resolution = 7\n",
    "\n",
    "hex_para = up.geom.gen_hexagons(h3_resolution, city=para)"
   ]
  },
  {
   "cell_type": "code",
   "execution_count": null,
   "metadata": {},
   "outputs": [],
   "source": [
    "hex_para.plot(edgecolor='none')\n",
    "plt.title(state + \". Cells H3 with resolution \" + str(h3_resolution))"
   ]
  },
  {
   "attachments": {},
   "cell_type": "markdown",
   "metadata": {},
   "source": [
    "## Download population data"
   ]
  },
  {
   "cell_type": "code",
   "execution_count": null,
   "metadata": {},
   "outputs": [],
   "source": [
    "full_pop_brazil_northeast = up.download.hdx_dataset(resource=\"c17003d1-47f4-4ec5-8229-2f77aeb114be/resource/957218ee-c740-44c0-88e5-7faeef813a0c/download/population_bra_northeast_2018-10-01.csv.zip\")\n",
    "full_pop_brazil_northwest = up.download.hdx_dataset(resource=\"c17003d1-47f4-4ec5-8229-2f77aeb114be/resource/1e1f271b-1055-4365-b391-f6fdf3093fe2/download/population_bra_northwest_2018-10-01.csv.zip\")"
   ]
  },
  {
   "cell_type": "code",
   "execution_count": null,
   "metadata": {},
   "outputs": [],
   "source": [
    "full_pop_brazil_north = pd.concat([full_pop_brazil_northeast, full_pop_brazil_northwest])"
   ]
  },
  {
   "attachments": {},
   "cell_type": "markdown",
   "metadata": {},
   "source": [
    "Filter data to just population in Para"
   ]
  },
  {
   "cell_type": "code",
   "execution_count": null,
   "metadata": {},
   "outputs": [],
   "source": [
    "pop_para = up.geom.filter_population(full_pop_brazil_north, para)\n",
    "pop_para.head()"
   ]
  },
  {
   "attachments": {},
   "cell_type": "markdown",
   "metadata": {},
   "source": [
    "Multiply population by .07 to approximate children at school age"
   ]
  },
  {
   "cell_type": "code",
   "execution_count": null,
   "metadata": {},
   "outputs": [],
   "source": [
    "## multiply every row in pop_para by 0.07\n",
    "pop_para['population_2020'] = pop_para['population_2020'].apply(lambda x: x*0.07)\n",
    "pop_para.head()"
   ]
  },
  {
   "attachments": {},
   "cell_type": "markdown",
   "metadata": {},
   "source": [
    "## Calculate population per hexagon"
   ]
  },
  {
   "cell_type": "code",
   "execution_count": null,
   "metadata": {},
   "outputs": [],
   "source": [
    "hex_para = up.geom.merge_shape_hex(\n",
    "    hexs = hex_para, \n",
    "    shape = pop_para, \n",
    "    agg={'population_2020': 'sum'}\n",
    ")"
   ]
  },
  {
   "attachments": {},
   "cell_type": "markdown",
   "metadata": {},
   "source": [
    "## Import school data"
   ]
  },
  {
   "cell_type": "code",
   "execution_count": null,
   "metadata": {},
   "outputs": [],
   "source": [
    "es_updated = pd.read_csv('data/escuelas.csv', skiprows=1)"
   ]
  },
  {
   "attachments": {},
   "cell_type": "markdown",
   "metadata": {},
   "source": [
    "Rename columns"
   ]
  },
  {
   "cell_type": "code",
   "execution_count": null,
   "metadata": {},
   "outputs": [],
   "source": [
    "es_updated = es_updated.rename(columns={'LAT_FINAL': 'lat'})\n",
    "es_updated = es_updated.rename(columns={'LONG_FINAL': 'lon'})"
   ]
  },
  {
   "attachments": {},
   "cell_type": "markdown",
   "metadata": {},
   "source": [
    "We also need a new column in the dataset called geometry that is a shapely point object"
   ]
  },
  {
   "cell_type": "code",
   "execution_count": null,
   "metadata": {},
   "outputs": [],
   "source": [
    "es_updated['geometry'] = es_updated.apply(lambda row: 'POINT (' + str(row['lon']) + ' ' + str(row['lat']) + ')', axis=1)"
   ]
  },
  {
   "attachments": {},
   "cell_type": "markdown",
   "metadata": {},
   "source": [
    "## Subset school data "
   ]
  },
  {
   "cell_type": "code",
   "execution_count": null,
   "metadata": {},
   "outputs": [],
   "source": [
    "# remove rows from `es_updated` where 'Etapas e Modalidade de Ensino Oferecidas' is 'Ensino Médio, Educação Profissional' or 'Ensino Médio' or 'Educação de Jovens Adultos' or 'Ensino Médio, Educação de Jovens Adultos' or 'Educação Profissional' or 'Ensino Médio, Educação Profissional, Educação de Jovens Adultos' or '   'Educação Profissional, Educação de Jovens Adultos'\n",
    "es_updated = es_updated[~es_updated['Etapas e Modalidade de Ensino Oferecidas'].isin(['Ensino Médio, Educação Profissional', 'Ensino Médio', 'Educação de Jovens Adultos', 'Ensino Médio, Educação de Jovens Adultos', 'Educação Profissional', 'Ensino Médio, Educação Profissional, Educação de Jovens Adultos', 'Educação Profissional, Educação de Jovens Adultos'])]"
   ]
  },
  {
   "attachments": {},
   "cell_type": "markdown",
   "metadata": {},
   "source": [
    "And then subset to just Para"
   ]
  },
  {
   "cell_type": "code",
   "execution_count": null,
   "metadata": {},
   "outputs": [],
   "source": [
    "es_para_updated = es_updated[es_updated['UF'] == 'PA']\n",
    "es_para_updated.head(3)"
   ]
  },
  {
   "attachments": {},
   "cell_type": "markdown",
   "metadata": {},
   "source": [
    "## Evaluate accessibility"
   ]
  },
  {
   "cell_type": "code",
   "execution_count": null,
   "metadata": {},
   "outputs": [],
   "source": [
    "hex_para['lat'] = hex_para.geometry.centroid.y\n",
    "hex_para['lon'] = hex_para.geometry.centroid.x"
   ]
  },
  {
   "cell_type": "code",
   "execution_count": null,
   "metadata": {},
   "outputs": [],
   "source": [
    "dist_up, ind_up = up.utils.nn_search(\n",
    "    tree_features=es_para_updated[['lat', 'lon']].values, # These are the schools\n",
    "    query_features=hex_para[['lat', 'lon']].values, # Values are the centroids of each hexagon\n",
    "    metric='haversine'\n",
    ")"
   ]
  },
  {
   "cell_type": "code",
   "execution_count": null,
   "metadata": {},
   "outputs": [],
   "source": [
    "hex_para['closest_school'] = ind_up"
   ]
  },
  {
   "attachments": {},
   "cell_type": "markdown",
   "metadata": {},
   "source": [
    "## Download data needed for Para"
   ]
  },
  {
   "attachments": {},
   "cell_type": "markdown",
   "metadata": {},
   "source": [
    "!cd ~/data/osrm && wget https://download.geofabrik.de/south-america/brazil/norte-latest.osm.pbf"
   ]
  },
  {
   "attachments": {},
   "cell_type": "markdown",
   "metadata": {},
   "source": [
    "start OSRM server"
   ]
  },
  {
   "cell_type": "code",
   "execution_count": null,
   "metadata": {},
   "outputs": [],
   "source": [
    "up.routing.start_osrm_server('norte', 'south-america_brazil', 'car')"
   ]
  },
  {
   "attachments": {},
   "cell_type": "markdown",
   "metadata": {},
   "source": [
    "Need the below line of code to convert the data to a format that OSRM can read"
   ]
  },
  {
   "cell_type": "code",
   "execution_count": null,
   "metadata": {},
   "outputs": [],
   "source": [
    "from shapely.wkt import loads\n",
    "es_para_updated['geometry'] = es_para_updated['geometry'].apply(lambda x: loads(x))"
   ]
  },
  {
   "attachments": {},
   "cell_type": "markdown",
   "metadata": {},
   "source": [
    "Then do our distance and time calculations"
   ]
  },
  {
   "cell_type": "code",
   "execution_count": null,
   "metadata": {},
   "outputs": [],
   "source": [
    "distance_duration_para_car = hex_para.apply(\n",
    "    lambda row: up.routing.osrm_route(\n",
    "        origin=row.geometry.centroid, \n",
    "        destination = es_para_updated.iloc[row['closest_school']]['geometry']\n",
    "    ),\n",
    "    result_type='expand',\n",
    "    axis=1,\n",
    ")"
   ]
  },
  {
   "attachments": {},
   "cell_type": "markdown",
   "metadata": {},
   "source": [
    "## Inspect results"
   ]
  },
  {
   "attachments": {},
   "cell_type": "markdown",
   "metadata": {},
   "source": [
    "- `0` corresponds to the distance\n",
    "- `1` corresponds to the duration of the trip by foot\n",
    "\n",
    "Our next step is to bring these data into the `hex_para` variable"
   ]
  },
  {
   "cell_type": "code",
   "execution_count": null,
   "metadata": {},
   "outputs": [],
   "source": [
    "distance_duration_para_car.head()"
   ]
  },
  {
   "cell_type": "code",
   "execution_count": null,
   "metadata": {},
   "outputs": [],
   "source": [
    "hex_para['distance_to_school_km'] =  distance_duration_para[0] / 1000 # metros a km\n",
    "hex_para['duration_to_school_min'] = distance_duration_para[1] / 60 # segundos a minutos"
   ]
  },
  {
   "cell_type": "code",
   "execution_count": null,
   "metadata": {},
   "outputs": [],
   "source": [
    "hex_para['distance_to_school_km'] =  distance_duration_para_car[0] / 1000 # metros a km\n",
    "hex_para['duration_to_school_min'] = distance_duration_para_car[1] / 60 # segundos a minutos"
   ]
  },
  {
   "cell_type": "code",
   "execution_count": null,
   "metadata": {},
   "outputs": [],
   "source": [
    "# Once we have finished with the OSRM server we stop it\n",
    "up.routing.stop_osrm_server('norte', 'north-america_brazil', 'car')"
   ]
  },
  {
   "cell_type": "code",
   "execution_count": null,
   "metadata": {},
   "outputs": [],
   "source": [
    "hex_plot_para = hex_para.query(\"population_2020 > 0\").reset_index(drop=True)\n",
    "# Reset index is needed to avoid an error with plotly choropleth_map"
   ]
  },
  {
   "cell_type": "code",
   "execution_count": null,
   "metadata": {},
   "outputs": [],
   "source": [
    "fig = up.plotting.choropleth_map(hex_plot_para, 'duration_to_school_min', \n",
    "                                title=  state + '. Estimated travel times to school by car',\n",
    "                                zoom = 5, \n",
    "                                color_continuous_scale=\"Plasma_r\",\n",
    "                                opacity=0.6, \n",
    "                                labels={'duration_to_school_min':'Duration (min)'}\n",
    "                                )\n",
    "\n",
    "fig.update_layout(\n",
    "    margin=dict(l=0, r=0, t=50, b=0),\n",
    ")\n",
    "fig.update_traces(marker_line_width=0.0)\n",
    "fig.show()"
   ]
  }
 ],
 "metadata": {
  "kernelspec": {
   "display_name": "robcrystalornelas-rNZAqMBb",
   "language": "python",
   "name": "python3"
  },
  "language_info": {
   "codemirror_mode": {
    "name": "ipython",
    "version": 3
   },
   "file_extension": ".py",
   "mimetype": "text/x-python",
   "name": "python",
   "nbconvert_exporter": "python",
   "pygments_lexer": "ipython3",
   "version": "3.10.11"
  },
  "orig_nbformat": 4
 },
 "nbformat": 4,
 "nbformat_minor": 2
}
